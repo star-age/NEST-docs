{
 "cells": [
  {
   "cell_type": "markdown",
   "metadata": {},
   "source": [
    "This page will guide you on the different options the NEST package provides for dating stars.\n",
    "\n",
    "You can download these docs as a jupyter notebook here {download}`tutorial.ipynb <_static/tutorial.ipynb>`\n",
    "\n",
    "Start by importing it:"
   ]
  },
  {
   "cell_type": "code",
   "execution_count": null,
   "metadata": {
    "tags": [
     "remove-output"
    ]
   },
   "outputs": [],
   "source": [
    "import NEST"
   ]
  },
  {
   "cell_type": "markdown",
   "metadata": {},
   "source": [
    "# List of available models\n",
    "Each model is a neural network trained on a different evolutionary stellar grid."
   ]
  },
  {
   "cell_type": "code",
   "execution_count": 2,
   "metadata": {},
   "outputs": [
    {
     "name": "stdout",
     "output_type": "stream",
     "text": [
      "BaSTIModel (http://basti-iac.oa-abruzzo.inaf.it/)\n",
      "PARSECModel (https://stev.oapd.inaf.it/PARSEC/)\n",
      "MISTModel (https://waps.cfa.harvard.edu/MIST/)\n",
      "GenevaModel (https://www.unige.ch/sciences/astro/evolution/en/database/syclist)\n",
      "DartmouthModel (https://rcweb.dartmouth.edu/stellar/)\n",
      "YaPSIModel (http://www.astro.yale.edu/yapsi/)\n"
     ]
    }
   ],
   "source": [
    "NEST.available_models()"
   ]
  },
  {
   "cell_type": "markdown",
   "metadata": {},
   "source": [
    "# Loading a model\n",
    "By default, the age models use sklearn to run the neural networks. If you do not have it installed, or don't want to use it, you can pass the argument `use_sklearn=False` to switch to a numpy version..\n",
    "\n",
    "```{note}\n",
    "Be aware though, in this mode it becomes significantly slower once you run the models on more than ~100 stars\n",
    "```"
   ]
  },
  {
   "cell_type": "code",
   "execution_count": 4,
   "metadata": {},
   "outputs": [],
   "source": [
    "age_model = NEST.BaSTIModel(use_tqdm=False)\n",
    "#age_model = NNSA.BaSTIModel(use_sklearn=False)"
   ]
  },
  {
   "cell_type": "markdown",
   "metadata": {},
   "source": [
    "# Estimating the age of a star\n",
    "To estimate the age of a star, use the `ages_prediction()` method, and pass it a metallicity met, magnitude mag and color col. Note that, with only these values provided, the return value is a np.array of shape (1,1). The reason will be clear if you check later uses. "
   ]
  },
  {
   "cell_type": "code",
   "execution_count": 8,
   "metadata": {},
   "outputs": [
    {
     "data": {
      "text/plain": [
       "array([[1.72104573]])"
      ]
     },
     "execution_count": 8,
     "metadata": {},
     "output_type": "execute_result"
    }
   ],
   "source": [
    "age_model.ages_prediction(met=0.0,mag=2.0,col=1.0)"
   ]
  },
  {
   "cell_type": "markdown",
   "metadata": {},
   "source": [
    "You can use the `check_domain()` method to verify that the star is within the bounds of the isochrones points used for training the neural networks. The function only checks for this in the HR Diagram, so you pass it a metallicity met, magnitude mag and color col."
   ]
  },
  {
   "cell_type": "code",
   "execution_count": 9,
   "metadata": {},
   "outputs": [
    {
     "data": {
      "text/plain": [
       "array([ True])"
      ]
     },
     "execution_count": 9,
     "metadata": {},
     "output_type": "execute_result"
    }
   ],
   "source": [
    "age_model.check_domain(met=0.0,mag=2.0,col=1.0)"
   ]
  },
  {
   "cell_type": "markdown",
   "metadata": {},
   "source": [
    "# Estimating the age of a star with GBP & GRP\n",
    "If you are using Gaia magnitudes and colors, you can also pass the red GRP and blue GBP magnitudes separately as additional inputs. This generally results in better estimations."
   ]
  },
  {
   "cell_type": "code",
   "execution_count": 10,
   "metadata": {
    "tags": [
     "hide-output"
    ]
   },
   "outputs": [
    {
     "data": {
      "text/plain": [
       "array([[1.34888727]])"
      ]
     },
     "execution_count": 10,
     "metadata": {},
     "output_type": "execute_result"
    }
   ],
   "source": [
    "age_model.ages_prediction(met=0.0,mag=2.0,col=1.0,GBP=2.0,GRP=1.0)"
   ]
  },
  {
   "cell_type": "markdown",
   "metadata": {},
   "source": [
    "# Estimating the age of multiple stars\n",
    "If you pass lists of values of size N as inputs instead of single values, the return value of the `ages_prediction()` method will be a np.array of shape (N,1). Again, the reason for the 2D shape will be clear by checking later uses.\n",
    "```{tip}\n",
    "If you have tqdm installed, you can display the progress of the age predictions. By default, this display is on, but you can turn it off when you initiate the age_model by passing the argument `use_tqdm=False`.\n",
    "```"
   ]
  },
  {
   "cell_type": "code",
   "execution_count": null,
   "metadata": {
    "tags": [
     "hide-output"
    ]
   },
   "outputs": [
    {
     "data": {
      "text/plain": [
       "array([[1.72104573],\n",
       "       [5.97925446]])"
      ]
     },
     "execution_count": 11,
     "metadata": {},
     "output_type": "execute_result"
    }
   ],
   "source": [
    "age_model.ages_prediction(\n",
    "    met=[0.0,-1.0],\n",
    "    mag=[2.0,3.0],\n",
    "    col=[1.0,0.5]\n",
    ")"
   ]
  },
  {
   "cell_type": "code",
   "execution_count": null,
   "metadata": {
    "tags": [
     "hide-output"
    ]
   },
   "outputs": [
    {
     "data": {
      "text/plain": [
       "array([[1.34888727],\n",
       "       [2.20902813]])"
      ]
     },
     "execution_count": 12,
     "metadata": {},
     "output_type": "execute_result"
    }
   ],
   "source": [
    "age_model.ages_prediction(\n",
    "    met=[0.0,-1.0],\n",
    "    mag=[2.0,3.0],\n",
    "    col=[1.0,0.5],\n",
    "    GBP=[2.0,1.0],\n",
    "    GRP=[1.0,0.5]\n",
    ")"
   ]
  },
  {
   "cell_type": "markdown",
   "metadata": {},
   "source": [
    "You can also check if the stars are within the training domain all at once by passing lists of metallicity met, magnitude mag & col values col."
   ]
  },
  {
   "cell_type": "code",
   "execution_count": null,
   "metadata": {
    "tags": [
     "hide-output"
    ]
   },
   "outputs": [
    {
     "data": {
      "text/plain": [
       "array([ True,  True])"
      ]
     },
     "execution_count": 8,
     "metadata": {},
     "output_type": "execute_result"
    }
   ],
   "source": [
    "age_model.check_domain(\n",
    "    met=[0.0,-1.0],\n",
    "    mag=[2.0,3.0],\n",
    "    col=[1.0,0.5]\n",
    ")"
   ]
  },
  {
   "cell_type": "markdown",
   "metadata": {},
   "source": [
    "That way, you can crossmatch both outputs to only keep stars whose age estimates we can reliably trust:"
   ]
  },
  {
   "cell_type": "code",
   "execution_count": 13,
   "metadata": {},
   "outputs": [
    {
     "name": "stdout",
     "output_type": "stream",
     "text": [
      "[[1.34888727]\n",
      " [2.20902813]\n",
      " [3.38402904]\n",
      " [6.08718654]]\n",
      "[ True  True  True False]\n",
      "[[1.34888727]\n",
      " [2.20902813]\n",
      " [3.38402904]]\n"
     ]
    }
   ],
   "source": [
    "met = [0.0,-1.0,-2.0,-3.0]\n",
    "mag = [2.0,3.0,3.0,5.0]\n",
    "col = [1.0,0.5,0.5,0.5]\n",
    "GBP = [2.0,1.0,1.0,1.0]\n",
    "GRP = [1.0,0.5,0.5,0.5]\n",
    "ages = age_model.ages_prediction(met=met,mag=mag,col=col,GBP=GBP,GRP=GRP)\n",
    "print(ages)\n",
    "outside_domain = age_model.check_domain(met=met,mag=mag,col=col)\n",
    "print(outside_domain)\n",
    "ages = ages[outside_domain]#Only keep ages of stars within the training domain of the NN\n",
    "print(ages)"
   ]
  },
  {
   "cell_type": "markdown",
   "metadata": {},
   "source": [
    "# Estimating the age of a star with uncertainties\n",
    "If you have uncertainty values for a star, you can pass them to the `ages_prediction()` method by adding values for emet, emag & ecol. The idea is that multiple age predictions will be made by offsetting the star's metallicity met, magnitude mag & col col by adding a random gaussian offset of width (emet,emag,ecol). The number of realisations made is controlled by the parameter n. The output of the method will then be a np.array of shape (1,n)."
   ]
  },
  {
   "cell_type": "code",
   "execution_count": 14,
   "metadata": {
    "tags": [
     "hide-output"
    ]
   },
   "outputs": [
    {
     "data": {
      "text/plain": [
       "array([[1.7256106 , 2.00334378, 1.85396521, 1.75088056, 1.9097981 ,\n",
       "        1.6040866 , 1.65672647, 1.94882322, 1.99593322, 1.88873856]])"
      ]
     },
     "execution_count": 14,
     "metadata": {},
     "output_type": "execute_result"
    }
   ],
   "source": [
    "age_model.ages_prediction(met=0.0,mag=2.0,col=1.0,emet=0.1,emag=0.05,ecol=0.05,n=10)"
   ]
  },
  {
   "cell_type": "markdown",
   "metadata": {},
   "source": [
    "Once the ages have been predicted for each star n times, you can call statistical methods `model.mean_ages()`, `model.median_ages()`, `model.mode_ages()` and `model.std_ages()`"
   ]
  },
  {
   "cell_type": "code",
   "execution_count": 20,
   "metadata": {},
   "outputs": [
    {
     "name": "stdout",
     "output_type": "stream",
     "text": [
      "[1.68963035]\n",
      "[1.68409769]\n",
      "[1.60851594]\n",
      "[0.09283736]\n"
     ]
    }
   ],
   "source": [
    "print(age_model.mean_ages())\n",
    "print(age_model.median_ages())\n",
    "print(age_model.mode_ages())\n",
    "print(age_model.std_ages())"
   ]
  },
  {
   "cell_type": "markdown",
   "metadata": {},
   "source": [
    "# Estimating the age of multiple stars with uncertainties\n",
    "Finally, you can combine multiple (N) stars age estimations and added uncertainties, with n Monte Carlo realisations. The output of the `ages_prediction()` method will then be a np.array of shape (N,n). A value of n=100 seems to be a good middle ground between speed and accurate predictions. If the number of stars is low, n>=1000 gives enough realisations to draw a PDF."
   ]
  },
  {
   "cell_type": "code",
   "execution_count": null,
   "metadata": {
    "tags": [
     "hide-output"
    ]
   },
   "outputs": [
    {
     "data": {
      "text/plain": [
       "array([[1.71462611, 1.94582103, 1.89940169, 2.97884081, 2.08031333,\n",
       "        1.58125759, 1.59831936, 1.83501568, 2.13068263, 1.74986554],\n",
       "       [5.20361322, 6.03242598, 6.830097  , 5.96518632, 6.54942971,\n",
       "        3.71275077, 6.11190383, 4.557374  , 5.16837155, 5.88224765]])"
      ]
     },
     "execution_count": 15,
     "metadata": {},
     "output_type": "execute_result"
    }
   ],
   "source": [
    "age_model.ages_prediction(\n",
    "    met=[0.0,-1.0],\n",
    "    mag=[2.0,3.0],\n",
    "    col=[1.0,0.5],\n",
    "    emet=[0.1,0.1],\n",
    "    emag=[0.05,0.05],\n",
    "    ecol=[0.05,0.05],\n",
    "    n=10\n",
    ")"
   ]
  },
  {
   "cell_type": "code",
   "execution_count": 22,
   "metadata": {},
   "outputs": [
    {
     "name": "stdout",
     "output_type": "stream",
     "text": [
      "[1.80196219 5.54847086]\n",
      "[1.67774137 5.32251073]\n",
      "[1.6429014  4.87189199]\n",
      "[0.32414629 0.85262662]\n"
     ]
    }
   ],
   "source": [
    "print(age_model.mean_ages())\n",
    "print(age_model.median_ages())\n",
    "print(age_model.mode_ages())\n",
    "print(age_model.std_ages())"
   ]
  },
  {
   "cell_type": "markdown",
   "metadata": {},
   "source": [
    "# Working with big datasets\n",
    "In the event you are working with big datasets, you might not want to store every sampled age for every star, as you might run out of memory to store all this information.\n",
    "In this case, you can pass the argument ` store_samples=False ` to the ` age_prediction() ` method. Instead of returning a (N,n) np.array, the method will return a dict with keys ` mean `, ` median `, ` mode ` and ` std `, which each contain a (N) np.array with the given statistical property.\n",
    "\n",
    "```{note}\n",
    "Keep in mind this will cause a significant slowdown, as the statistical properties have to be computed for each star individually before discarding all its samples.\n",
    "```"
   ]
  },
  {
   "cell_type": "code",
   "execution_count": null,
   "metadata": {
    "tags": [
     "hide-output"
    ]
   },
   "outputs": [
    {
     "data": {
      "text/plain": [
       "{'mean': array([2.09471423, 6.01643673]),\n",
       " 'median': array([1.75520015, 6.15407341]),\n",
       " 'mode': array([1.75, 6.37]),\n",
       " 'std': array([1.13576418, 0.7743602 ])}"
      ]
     },
     "execution_count": 16,
     "metadata": {},
     "output_type": "execute_result"
    }
   ],
   "source": [
    "age_model.ages_prediction(\n",
    "    met=[0.0,-1.0],\n",
    "    mag=[2.0,3.0],\n",
    "    col=[1.0,0.5],\n",
    "    emet=[0.1,0.1],\n",
    "    emag=[0.05,0.05],\n",
    "    ecol=[0.05,0.05],\n",
    "    n=100,\n",
    "    store_samples=False\n",
    ")"
   ]
  },
  {
   "cell_type": "markdown",
   "metadata": {},
   "source": [
    "# Age model properties\n",
    "- `age_model.samples` returns an (N,n,m) np.array of the latest samples used for the age predictions, if they were stored.\n",
    "- `age_model.ages` returns an (N,n) np.array of the latest age predictions ran.\n",
    "N : number of stars, n : number of samples, m : inputs dimension (3 if using metallicity,magnitude & color, 5 if using GBP & GRP in addition)."
   ]
  },
  {
   "cell_type": "code",
   "execution_count": 8,
   "metadata": {},
   "outputs": [
    {
     "data": {
      "image/png": "[encoded data removed]",
      "text/plain": [
       "<Figure size 640x480 with 2 Axes>"
      ]
     },
     "metadata": {},
     "output_type": "display_data"
    }
   ],
   "source": [
    "#Here is an example on how you can retrieve the samples\n",
    "#of the age predictions to investigate individual predictions\n",
    "age_model.ages_prediction(\n",
    "    met=[0.0,-1.0],\n",
    "    mag=[2.0,3.0],\n",
    "    col=[1.0,0.5],\n",
    "    emet=[0.1,0.1],\n",
    "    emag=[0.1,0.1],\n",
    "    ecol=[0.1,0.1],\n",
    "    n=100\n",
    ")\n",
    "\n",
    "star_i = 1#Select the second star\n",
    "magnitudes = age_model.samples[star_i,:,1]\n",
    "colors = age_model.samples[star_i,:,2]\n",
    "ages = age_model.ages[star_i]\n",
    "\n",
    "import matplotlib.pyplot as plt\n",
    "plt.scatter(colors,magnitudes,c=ages)\n",
    "plt.colorbar(label='Age [Gyr]')\n",
    "plt.xlabel(r'$G_{BP}$ - $G_{RP}$ [mag]')\n",
    "plt.ylabel(r'$M_G$ [mag]')\n",
    "plt.ylim(plt.ylim()[::-1]);"
   ]
  }
 ],
 "metadata": {
  "kernelspec": {
   "display_name": "Python 3",
   "language": "python",
   "name": "python3"
  },
  "language_info": {
   "codemirror_mode": {
    "name": "ipython",
    "version": 3
   },
   "file_extension": ".py",
   "mimetype": "text/x-python",
   "name": "python",
   "nbconvert_exporter": "python",
   "pygments_lexer": "ipython3",
   "version": "3.13.3"
  }
 },
 "nbformat": 4,
 "nbformat_minor": 2
}
