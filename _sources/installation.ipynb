{
 "cells": [
  {
   "cell_type": "markdown",
   "id": "5633e6e5",
   "metadata": {},
   "source": [
    "# Installation\n",
    "You can install this package by downloading the source code on Github :\n",
    "```{image} button.svg\n",
    ":alt: Github Source code\n",
    ":width: 200px\n",
    ":target: https://github.com/star-age/NEST\n",
    "```\n",
    "\n",
    "Or you can install via pip :"
   ]
  },
  {
   "cell_type": "code",
   "execution_count": null,
   "id": "636cee97",
   "metadata": {},
   "outputs": [],
   "source": [
    "pip install astro-nest"
   ]
  },
  {
   "cell_type": "markdown",
   "id": "13068a8e",
   "metadata": {},
   "source": [
    "## Dependencies\n",
    "- numpy\n",
    "- scikit (optional but recommended for speed)\n",
    "- tqdm (optional)"
   ]
  }
 ],
 "metadata": {
  "kernelspec": {
   "display_name": "Python 3",
   "language": "python",
   "name": "python3"
  },
  "language_info": {
   "name": "python",
   "version": "3.13.3"
  }
 },
 "nbformat": 4,
 "nbformat_minor": 5
}
