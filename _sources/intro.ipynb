{
 "cells": [
  {
   "cell_type": "markdown",
   "id": "9f094a88",
   "metadata": {},
   "source": [
    "# Age estimation\n",
    "\n",
    "This page will guide you on the different options the **NEST** package provides for dating stars.\n",
    "\n",
    "You can download these docs as a jupyter notebook here {download}`tutorial.ipynb <_static/tutorial.ipynb>`"
   ]
  }
 ],
 "metadata": {
  "language_info": {
   "name": "python"
  }
 },
 "nbformat": 4,
 "nbformat_minor": 5
}
